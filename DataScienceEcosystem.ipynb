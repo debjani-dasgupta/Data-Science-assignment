{
 "cells": [
  {
   "cell_type": "markdown",
   "id": "b63cee43-9041-4a37-a734-1fcaa15f60e8",
   "metadata": {},
   "source": [
    "# Data Science Tools and Ecosystem"
   ]
  },
  {
   "cell_type": "markdown",
   "id": "6892946e-2c84-42d0-966a-9ae9c5edfa8a",
   "metadata": {},
   "source": [
    "In this notebook, Data Science Tools and Ecosystem are summarized."
   ]
  },
  {
   "cell_type": "markdown",
   "id": "92390793-3b02-4d94-b02d-7914c716b98d",
   "metadata": {},
   "source": [
    "**Objectives**\n",
    "\n",
    "* Popular languages for Data Science.\n",
    "* Common libraries\n",
    "* Data Science Tools\n",
    "* Arithmatic operations\n",
    "* Markdown cell in python"
   ]
  },
  {
   "cell_type": "markdown",
   "id": "0f02a8a8-3b9e-4b72-9645-1d31da3fac20",
   "metadata": {},
   "source": [
    "Some of the popular languages that Data Scientist use are:\n",
    "    \n",
    "    1. Python.\n",
    "    2. Java.\n",
    "    3. Julia.\n",
    "    4. C++."
   ]
  },
  {
   "cell_type": "markdown",
   "id": "e72577f7-496e-4c97-abf3-473e86bc3386",
   "metadata": {},
   "source": [
    "Some of the commonly used by Data Scientists include:\n",
    "    \n",
    "    1. pandas.\n",
    "    2. numpy.\n",
    "    3. ggplot."
   ]
  },
  {
   "cell_type": "markdown",
   "id": "f45102f1-894b-42f4-a0a6-7d15e0a4bbce",
   "metadata": {},
   "source": [
    "|Data Science Tools|\n",
    "--------------------\n",
    "|Anaconda|\n",
    "|JupyterLab|\n",
    "|RStudio|"
   ]
  },
  {
   "cell_type": "markdown",
   "id": "c22acce0-9285-4a4e-95f3-7182b84df272",
   "metadata": {},
   "source": [
    "### Below are few examples of evaluating arithmatic expression in Python"
   ]
  },
  {
   "cell_type": "code",
   "execution_count": 1,
   "id": "281943fd-cf16-4ad3-b0c5-5722b960facb",
   "metadata": {
    "tags": []
   },
   "outputs": [
    {
     "data": {
      "text/plain": [
       "17"
      ]
     },
     "execution_count": 1,
     "metadata": {},
     "output_type": "execute_result"
    }
   ],
   "source": [
    "# This is a simple arithmatic expression to multiply then add integers.\n",
    "(3*4)+5"
   ]
  },
  {
   "cell_type": "code",
   "execution_count": 2,
   "id": "17333748-d448-4240-a8cc-f3993644ecb5",
   "metadata": {
    "tags": []
   },
   "outputs": [
    {
     "data": {
      "text/plain": [
       "3.3333333333333335"
      ]
     },
     "execution_count": 2,
     "metadata": {},
     "output_type": "execute_result"
    }
   ],
   "source": [
    "# This will convert 200 minutes to hours by dividing by 60.\n",
    "200/60"
   ]
  },
  {
   "cell_type": "markdown",
   "id": "68b75d46-94ed-42ef-9d11-ed8a4578f3ac",
   "metadata": {},
   "source": [
    "## Author\n",
    "Debjani Das Gupta"
   ]
  },
  {
   "cell_type": "code",
   "execution_count": null,
   "id": "9f4c7f04-6291-43da-a0e7-1b0a96a145ce",
   "metadata": {},
   "outputs": [],
   "source": []
  }
 ],
 "metadata": {
  "kernelspec": {
   "display_name": "Python",
   "language": "python",
   "name": "conda-env-python-py"
  },
  "language_info": {
   "codemirror_mode": {
    "name": "ipython",
    "version": 3
   },
   "file_extension": ".py",
   "mimetype": "text/x-python",
   "name": "python",
   "nbconvert_exporter": "python",
   "pygments_lexer": "ipython3",
   "version": "3.7.12"
  }
 },
 "nbformat": 4,
 "nbformat_minor": 5
}
